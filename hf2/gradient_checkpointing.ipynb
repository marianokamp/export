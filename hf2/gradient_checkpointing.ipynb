{
 "cells": [
  {
   "cell_type": "code",
   "execution_count": 1,
   "id": "cae0884b-1dd5-4412-be2a-6ee33109431b",
   "metadata": {
    "tags": []
   },
   "outputs": [],
   "source": [
    "%load_ext autoreload\n",
    "%autoreload 2\n",
    "\n",
    "%matplotlib inline"
   ]
  },
  {
   "cell_type": "code",
   "execution_count": 2,
   "id": "9522d4e5-cfd0-4dd2-a1cd-6927210b3505",
   "metadata": {
    "tags": []
   },
   "outputs": [],
   "source": [
    "!pip install -Uq transformers datasets torch numpy psutil pynvml"
   ]
  },
  {
   "cell_type": "code",
   "execution_count": 3,
   "id": "de39bf30-392b-47f2-8ee4-b92593cf3a21",
   "metadata": {
    "tags": []
   },
   "outputs": [
    {
     "data": {
      "text/plain": [
       "('2.1.2+cu121', '4.36.2', '2.16.1', '1.26.3')"
      ]
     },
     "execution_count": 3,
     "metadata": {},
     "output_type": "execute_result"
    }
   ],
   "source": [
    "import torch, transformers, datasets\n",
    "import numpy as np\n",
    "torch.__version__, transformers.__version__, datasets.__version__, np.__version__"
   ]
  },
  {
   "cell_type": "code",
   "execution_count": 4,
   "id": "89e8613d-c167-47a5-8679-ff3edd5e0bf8",
   "metadata": {
    "tags": []
   },
   "outputs": [],
   "source": [
    "import os\n",
    "import psutil\n",
    "import time\n",
    "import gc\n",
    "from pynvml import *\n",
    "\n",
    "from threading import Thread\n",
    "\n",
    "\n",
    "def print_process_memory():\n",
    "    process = psutil.Process(os.getpid())\n",
    "    \n",
    "    memory_info = process.memory_info()\n",
    "    memory_usage = memory_info.rss / (1024 ** 2) \n",
    "    \n",
    "    gc.collect()\n",
    "    \n",
    "    memory_info2 = process.memory_info()\n",
    "    memory_usage2 = memory_info2.rss / (1024 ** 2) \n",
    "    \n",
    "    print(f\"Current memory usage: {memory_usage:>10.1f} MB -> {memory_usage2:>10.1f} MB\")\n",
    "\n",
    "def print_gpu_utilization():\n",
    "    torch.cuda.empty_cache() \n",
    "    nvmlInit()\n",
    "    handle = nvmlDeviceGetHandleByIndex(0)\n",
    "    info = nvmlDeviceGetMemoryInfo(handle)\n",
    "    print(f\"GPU memory occupied: {info.used//1024**2} MB.\")\n",
    "\n",
    "def schedule_gpu_memory_logging():\n",
    "    def log_loop():\n",
    "        while True:\n",
    "            #print_process_memory()\n",
    "            print_gpu_utilization()\n",
    "            time.sleep(30)\n",
    "\n",
    "    t = Thread(target=log_loop, daemon=True)\n",
    "    t.start()\n",
    "schedule_gpu_memory_logging()"
   ]
  },
  {
   "cell_type": "code",
   "execution_count": 5,
   "id": "1377d1fb-63d4-48dc-afff-a70e55093024",
   "metadata": {},
   "outputs": [
    {
     "name": "stdout",
     "output_type": "stream",
     "text": [
      "GPU memory occupied: 516 MB.\n"
     ]
    },
    {
     "name": "stderr",
     "output_type": "stream",
     "text": [
      "2024-01-17 12:05:34.566909: I tensorflow/core/platform/cpu_feature_guard.cc:182] This TensorFlow binary is optimized to use available CPU instructions in performance-critical operations.\n",
      "To enable the following instructions: SSE4.1 SSE4.2 AVX AVX2 FMA, in other operations, rebuild TensorFlow with the appropriate compiler flags.\n"
     ]
    }
   ],
   "source": [
    "from transformers import AutoModelForSequenceClassification, AutoTokenizer, DataCollatorWithPadding, TrainingArguments, Trainer, set_seed\n",
    "from torch import nn\n",
    "from torch.nn import functional as F\n",
    "import math\n",
    "\n",
    "hf_ckp = 'distilbert-base-uncased'\n",
    "hf_ckp = 'roberta-base'\n",
    "set_seed(100)\n",
    "\n",
    "def compute_metrics(eval_pred):\n",
    "    logits, labels = eval_pred\n",
    "    predictions = np.argmax(logits, axis=-1)\n",
    "    return {f\"accuracy\": (predictions == labels).mean()}\n",
    "\n",
    "def count_parameters(m, verbose=True):\n",
    "    total_count = 0\n",
    "    learnable_count = 0\n",
    "    if verbose:\n",
    "        print(\"Parameters (name, tunable, count):\")\n",
    "\n",
    "    output_width = max([len(n) for n, _ in m.named_parameters()])\n",
    "    for n, p in m.named_parameters():\n",
    "        count = p.data.numel()\n",
    "        if verbose:\n",
    "            print(f\" {n:{output_width}} {p.requires_grad:5b} {count:>11d}\")\n",
    "        total_count += count\n",
    "        if p.requires_grad:\n",
    "            learnable_count += count\n",
    "\n",
    "    print(\n",
    "        f\"Total parameters: {total_count:,}, \"\n",
    "        f\"thereof learnable: {learnable_count:,} \"\n",
    "        f\"({learnable_count/total_count*100.:5.4f}%)\"\n",
    "    )\n",
    "\n",
    "    return total_count, learnable_count\n",
    "\n",
    "def adapt_model(model):\n",
    "    \n",
    "    # Minimalized example in place of the original LoRA-from-Scratch \n",
    "    # implementation from the article: \n",
    "    # https://towardsdatascience.com/dive-into-lora-adapters-38f4da488ede\n",
    "    class MinimalLoRAAdapter(nn.Module): \n",
    "        def __init__(self, \n",
    "                     adaptee):\n",
    "            super().__init__()\n",
    "\n",
    "            self.adaptee = adaptee\n",
    "\n",
    "            self.orig_forward = adaptee.forward\n",
    "            adaptee.forward = self.forward\n",
    "            \n",
    "            r = 1\n",
    "            adaptee.lora_A = nn.Parameter(\n",
    "                torch.randn(adaptee.in_features, r) / math.sqrt(adaptee.in_features)\n",
    "            )\n",
    "            adaptee.lora_B = nn.Parameter(torch.zeros(r, adaptee.out_features))\n",
    "\n",
    "        def forward(self, x, *args, **kwargs):\n",
    "            return (\n",
    "                self.orig_forward(x, *args, **kwargs)\n",
    "                + F.dropout(x, 0.1) @ self.adaptee.lora_A @ self.adaptee.lora_B\n",
    "            )\n",
    "\n",
    "    if False:\n",
    "        for p in list(model.children()):\n",
    "            p.requires_grad_(False)\n",
    "        for p in list(model.children())[-1].parameters():\n",
    "            p.requires_grad_(True)\n",
    "\n",
    "   \n",
    "    if True:\n",
    "        # freeze all layers, incl. embeddings, except for the classifier\n",
    "        for m in model.roberta.modules():    \n",
    "        #for m in model.distilbert.modules():    \n",
    "            m.requires_grad_(False)\n",
    "\n",
    "    # Adapt linear modules in transformer layers\n",
    "    for m in model.roberta.encoder.modules():    \n",
    "    #for m in model.distilbert.transformer.modules():    \n",
    "        if isinstance(m, nn.Linear):\n",
    "            MinimalLoRAAdapter(m)\n",
    "    return model"
   ]
  },
  {
   "cell_type": "code",
   "execution_count": 6,
   "id": "79262f93-88ab-4c43-859c-679a9b80f88b",
   "metadata": {
    "tags": []
   },
   "outputs": [
    {
     "name": "stdout",
     "output_type": "stream",
     "text": [
      "\n",
      "---- without gradient checkpointing ----\n",
      "\n"
     ]
    },
    {
     "name": "stderr",
     "output_type": "stream",
     "text": [
      "Some weights of RobertaForSequenceClassification were not initialized from the model checkpoint at roberta-base and are newly initialized: ['classifier.dense.weight', 'classifier.out_proj.weight', 'classifier.dense.bias', 'classifier.out_proj.bias']\n",
      "You should probably TRAIN this model on a down-stream task to be able to use it for predictions and inference.\n"
     ]
    },
    {
     "name": "stdout",
     "output_type": "stream",
     "text": [
      "model.is_gradient_checkpointing=False\n",
      "Total parameters: 124,813,058, thereof learnable: 758,018 (0.6073%)\n"
     ]
    },
    {
     "name": "stderr",
     "output_type": "stream",
     "text": [
      "You're using a RobertaTokenizerFast tokenizer. Please note that with a fast tokenizer, using the `__call__` method is faster than using a method to encode the text followed by a call to the `pad` method to get a padded encoding.\n"
     ]
    },
    {
     "name": "stdout",
     "output_type": "stream",
     "text": [
      "GPU memory occupied: 1541 MB.\n",
      "GPU memory occupied: 1441 MB.\n",
      "GPU memory occupied: 1419 MB.\n",
      "GPU memory occupied: 2283 MB.\n",
      "{'eval_loss': 0.33385390043258667, 'eval_accuracy': 0.8841743119266054, 'eval_runtime': 1.6844, 'eval_samples_per_second': 517.688, 'eval_steps_per_second': 64.711, 'epoch': 0.83}\n",
      "GPU memory occupied: 1447 MB.\n",
      "GPU memory occupied: 6321 MB.\n",
      "GPU memory occupied: 6305 MB.\n",
      "{'loss': 0.4722, 'learning_rate': 1.5e-05, 'epoch': 1.66}\n",
      "{'eval_loss': 0.2571539282798767, 'eval_accuracy': 0.9013761467889908, 'eval_runtime': 1.7027, 'eval_samples_per_second': 512.126, 'eval_steps_per_second': 64.016, 'epoch': 1.66}\n",
      "GPU memory occupied: 1431 MB.\n",
      "GPU memory occupied: 1431 MB.\n",
      "GPU memory occupied: 4887 MB.\n",
      "GPU memory occupied: 1421 MB.\n",
      "{'eval_loss': 0.2381727248430252, 'eval_accuracy': 0.908256880733945, 'eval_runtime': 1.6827, 'eval_samples_per_second': 518.211, 'eval_steps_per_second': 64.776, 'epoch': 2.49}\n",
      "GPU memory occupied: 2845 MB.\n",
      "GPU memory occupied: 1399 MB.\n",
      "GPU memory occupied: 1425 MB.\n",
      "GPU memory occupied: 3453 MB.\n",
      "{'loss': 0.2937, 'learning_rate': 0.0, 'epoch': 3.32}\n",
      "{'eval_loss': 0.23466329276561737, 'eval_accuracy': 0.9071100917431193, 'eval_runtime': 1.6692, 'eval_samples_per_second': 522.396, 'eval_steps_per_second': 65.3, 'epoch': 3.32}\n",
      "{'train_runtime': 462.115, 'train_samples_per_second': 484.728, 'train_steps_per_second': 2.164, 'train_loss': 0.38296363830566404, 'epoch': 3.32}\n",
      "{'eval_loss': 0.23593959212303162, 'eval_accuracy': 0.908256880733945, 'eval_runtime': 1.6863, 'eval_samples_per_second': 517.101, 'eval_steps_per_second': 64.638, 'epoch': 3.32}\n",
      "\n",
      "---- with gradient checkpointing ----\n",
      "\n"
     ]
    },
    {
     "name": "stderr",
     "output_type": "stream",
     "text": [
      "Some weights of RobertaForSequenceClassification were not initialized from the model checkpoint at roberta-base and are newly initialized: ['classifier.dense.weight', 'classifier.out_proj.weight', 'classifier.dense.bias', 'classifier.out_proj.bias']\n",
      "You should probably TRAIN this model on a down-stream task to be able to use it for predictions and inference.\n"
     ]
    },
    {
     "name": "stdout",
     "output_type": "stream",
     "text": [
      "model.is_gradient_checkpointing=True\n",
      "Total parameters: 124,813,058, thereof learnable: 758,018 (0.6073%)\n"
     ]
    },
    {
     "name": "stderr",
     "output_type": "stream",
     "text": [
      "/opt/conda/lib/python3.10/site-packages/torch/utils/checkpoint.py:429: UserWarning: torch.utils.checkpoint: please pass in use_reentrant=True or use_reentrant=False explicitly. The default value of use_reentrant will be updated to be False in the future. To maintain current behavior, pass use_reentrant=True. It is recommended that you use use_reentrant=False. Refer to docs for more details on the differences between the two variants.\n",
      "  warnings.warn(\n",
      "/opt/conda/lib/python3.10/site-packages/torch/utils/checkpoint.py:61: UserWarning: None of the inputs have requires_grad=True. Gradients will be None\n",
      "  warnings.warn(\n"
     ]
    },
    {
     "name": "stdout",
     "output_type": "stream",
     "text": [
      "GPU memory occupied: 1381 MB.\n",
      "GPU memory occupied: 1381 MB.\n",
      "{'eval_loss': 0.6846632361412048, 'eval_accuracy': 0.5091743119266054, 'eval_runtime': 1.6905, 'eval_samples_per_second': 515.83, 'eval_steps_per_second': 64.479, 'epoch': 0.83}\n",
      "GPU memory occupied: 1381 MB.\n",
      "GPU memory occupied: 1381 MB.\n",
      "{'loss': 0.6764, 'learning_rate': 1.5e-05, 'epoch': 1.66}\n",
      "{'eval_loss': 0.6755141615867615, 'eval_accuracy': 0.5091743119266054, 'eval_runtime': 1.6976, 'eval_samples_per_second': 513.656, 'eval_steps_per_second': 64.207, 'epoch': 1.66}\n",
      "GPU memory occupied: 1381 MB.\n",
      "GPU memory occupied: 1381 MB.\n",
      "{'eval_loss': 0.6665772199630737, 'eval_accuracy': 0.5103211009174312, 'eval_runtime': 1.7146, 'eval_samples_per_second': 508.585, 'eval_steps_per_second': 63.573, 'epoch': 2.49}\n",
      "GPU memory occupied: 1381 MB.\n",
      "GPU memory occupied: 1381 MB.\n",
      "{'loss': 0.6586, 'learning_rate': 0.0, 'epoch': 3.32}\n",
      "{'eval_loss': 0.6635248064994812, 'eval_accuracy': 0.5194954128440367, 'eval_runtime': 1.6695, 'eval_samples_per_second': 522.312, 'eval_steps_per_second': 65.289, 'epoch': 3.32}\n",
      "{'train_runtime': 228.7402, 'train_samples_per_second': 979.277, 'train_steps_per_second': 4.372, 'train_loss': 0.6675097045898437, 'epoch': 3.32}\n",
      "{'eval_loss': 0.6635248064994812, 'eval_accuracy': 0.5194954128440367, 'eval_runtime': 1.699, 'eval_samples_per_second': 513.234, 'eval_steps_per_second': 64.154, 'epoch': 3.32}\n",
      "CPU times: user 5min 48s, sys: 5min 46s, total: 11min 35s\n",
      "Wall time: 11min 38s\n"
     ]
    }
   ],
   "source": [
    "%%time\n",
    "\n",
    "tokenizer = AutoTokenizer.from_pretrained(hf_ckp)\n",
    "collator = DataCollatorWithPadding(tokenizer=tokenizer)\n",
    "\n",
    "datasets.logging.disable_progress_bar()\n",
    "dataset = datasets.load_dataset(\"glue\", \"sst2\")\n",
    "train = dataset[\"train\"]\n",
    "valid = dataset[\"validation\"]\n",
    "\n",
    "def preprocess_function(examples):\n",
    "        return tokenizer(examples['sentence'], padding=False, truncation=True)\n",
    "\n",
    "tokenized_train = train.map(preprocess_function, batched=False)\n",
    "tokenized_valid = valid.map(preprocess_function, batched=False)\n",
    "\n",
    "def train(cp_enabled, model):\n",
    "    \n",
    "    set_seed(100)\n",
    "    #torch.random.set_rng_state(torch.ByteTensor(100))\n",
    "    if cp_enabled:\n",
    "        model.gradient_checkpointing_enable(gradient_checkpointing_kwargs={\"use_reentrant\":False})\n",
    "    \n",
    "    training_args = TrainingArguments(\n",
    "        gradient_checkpointing=cp_enabled,\n",
    "        output_dir=\"out\",    \n",
    "        per_device_train_batch_size=224,\n",
    "        learning_rate=3e-5,\n",
    "        save_steps=10_000,\n",
    "        eval_steps=   250,\n",
    "        max_steps = 1_000,\n",
    "        evaluation_strategy=\"steps\",\n",
    "        save_strategy=\"steps\",\n",
    "        save_total_limit=1,\n",
    "        disable_tqdm=True,\n",
    "        metric_for_best_model='eval_accuracy',\n",
    "        report_to=\"none\", # Disable wandb, tensorboard\n",
    "    )\n",
    "\n",
    "    trainer = Trainer(\n",
    "        model=model,\n",
    "        args=training_args,\n",
    "        train_dataset=tokenized_train,\n",
    "        eval_dataset=tokenized_valid,\n",
    "        tokenizer=tokenizer,\n",
    "        data_collator=collator,\n",
    "        compute_metrics=compute_metrics,\n",
    "    )\n",
    "    print(f'{model.is_gradient_checkpointing=}')\n",
    "    total, learnable = count_parameters(model, verbose=False)\n",
    "    \n",
    "    trainer.train()\n",
    "    trainer.evaluate()\n",
    "\n",
    "\n",
    "print('\\n---- without gradient checkpointing ----\\n')\n",
    "model = AutoModelForSequenceClassification.from_pretrained(hf_ckp, num_labels=2)   \n",
    "model = adapt_model(model)\n",
    "train(False, model)\n",
    "\n",
    "del(model) # essential!\n",
    "\n",
    "print('\\n---- with gradient checkpointing ----\\n')\n",
    "model = AutoModelForSequenceClassification.from_pretrained(hf_ckp, num_labels=2)\n",
    "model = adapt_model(model)\n",
    "\n",
    "train(True, model)"
   ]
  },
  {
   "cell_type": "code",
   "execution_count": 7,
   "id": "fac75a22-d567-4880-bc83-79d520f3ea56",
   "metadata": {
    "tags": []
   },
   "outputs": [
    {
     "name": "stdout",
     "output_type": "stream",
     "text": [
      "GPU memory occupied: 1381 MB.\n",
      "GPU memory occupied: 1381 MB.\n",
      "GPU memory occupied: 1381 MB.\n",
      "GPU memory occupied: 1381 MB.\n",
      "GPU memory occupied: 1381 MB.\n",
      "GPU memory occupied: 1381 MB.\n",
      "GPU memory occupied: 1381 MB.\n",
      "GPU memory occupied: 1381 MB.\n"
     ]
    }
   ],
   "source": [
    "# Doesn't matter that it is LoRA. Using a Custom Module. Freezing layers. All of that happens in the adapt_model method. \n",
    "# Missing LoRA, missing require_grad_ adjustments\n",
    "# Adapted from my real example, article."
   ]
  }
 ],
 "metadata": {
  "kernelspec": {
   "display_name": "Python 3 (ipykernel)",
   "language": "python",
   "name": "python3"
  },
  "language_info": {
   "codemirror_mode": {
    "name": "ipython",
    "version": 3
   },
   "file_extension": ".py",
   "mimetype": "text/x-python",
   "name": "python",
   "nbconvert_exporter": "python",
   "pygments_lexer": "ipython3",
   "version": "3.10.13"
  }
 },
 "nbformat": 4,
 "nbformat_minor": 5
}
