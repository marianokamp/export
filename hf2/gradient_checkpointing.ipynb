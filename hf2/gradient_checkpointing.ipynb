{
 "cells": [
  {
   "cell_type": "code",
   "execution_count": 1,
   "id": "cae0884b-1dd5-4412-be2a-6ee33109431b",
   "metadata": {
    "tags": []
   },
   "outputs": [],
   "source": [
    "%load_ext autoreload\n",
    "%autoreload 2\n",
    "\n",
    "%matplotlib inline"
   ]
  },
  {
   "cell_type": "code",
   "execution_count": 2,
   "id": "9522d4e5-cfd0-4dd2-a1cd-6927210b3505",
   "metadata": {
    "tags": []
   },
   "outputs": [],
   "source": [
    "!pip install -Uq transformers datasets torch numpy"
   ]
  },
  {
   "cell_type": "code",
   "execution_count": 3,
   "id": "de39bf30-392b-47f2-8ee4-b92593cf3a21",
   "metadata": {
    "tags": []
   },
   "outputs": [
    {
     "data": {
      "text/plain": [
       "('2.1.2', '4.36.2', '2.16.1', '1.26.3')"
      ]
     },
     "execution_count": 3,
     "metadata": {},
     "output_type": "execute_result"
    }
   ],
   "source": [
    "import torch, transformers, datasets\n",
    "import numpy as np\n",
    "torch.__version__, transformers.__version__, datasets.__version__, np.__version__"
   ]
  },
  {
   "cell_type": "code",
   "execution_count": 4,
   "id": "1377d1fb-63d4-48dc-afff-a70e55093024",
   "metadata": {},
   "outputs": [
    {
     "name": "stdout",
     "output_type": "stream",
     "text": [
      "'NoneType' object has no attribute 'cadam32bit_grad_fp32'\n"
     ]
    },
    {
     "name": "stderr",
     "output_type": "stream",
     "text": [
      "/opt/homebrew/Caskroom/miniforge/base/envs/peft_lora/lib/python3.10/site-packages/bitsandbytes/cextension.py:34: UserWarning: The installed version of bitsandbytes was compiled without GPU support. 8-bit optimizers, 8-bit multiplication, and GPU quantization are unavailable.\n",
      "  warn(\"The installed version of bitsandbytes was compiled without GPU support. \"\n"
     ]
    }
   ],
   "source": [
    "from transformers import AutoModelForSequenceClassification, AutoTokenizer, DataCollatorWithPadding, TrainingArguments, Trainer, set_seed\n",
    "from torch import nn\n",
    "from torch.nn import functional as F\n",
    "import math\n",
    "\n",
    "hf_ckp = 'roberta-base'\n",
    "set_seed(100)\n",
    "\n",
    "def compute_metrics(eval_pred):\n",
    "    logits, labels = eval_pred\n",
    "    predictions = np.argmax(logits, axis=-1)\n",
    "    return {f\"accuracy\": (predictions == labels).mean()}\n",
    "\n",
    "def count_parameters(m, verbose=True):\n",
    "    total_count = 0\n",
    "    learnable_count = 0\n",
    "    if verbose:\n",
    "        print(\"Parameters (name, tunable, count):\")\n",
    "\n",
    "    output_width = max([len(n) for n, _ in m.named_parameters()])\n",
    "    for n, p in m.named_parameters():\n",
    "        count = p.data.numel()\n",
    "        if verbose:\n",
    "            print(f\" {n:{output_width}} {p.requires_grad:5b} {count:>11d}\")\n",
    "        total_count += count\n",
    "        if p.requires_grad:\n",
    "            learnable_count += count\n",
    "\n",
    "    print(\n",
    "        f\"Total parameters: {total_count:,}, \"\n",
    "        f\"thereof learnable: {learnable_count:,} \"\n",
    "        f\"({learnable_count/total_count*100.:5.4f}%)\"\n",
    "    )\n",
    "\n",
    "    return total_count, learnable_count\n",
    "\n",
    "def adapt_model(model):\n",
    "    \n",
    "    # Minimalized example in place of the original LoRA-from-Scratch \n",
    "    # implementation from the article: \n",
    "    # https://towardsdatascience.com/dive-into-lora-adapters-38f4da488ede\n",
    "    class MinimalLoRAAdapter(nn.Module): \n",
    "        def __init__(self, \n",
    "                     adaptee):\n",
    "            super().__init__()\n",
    "\n",
    "            self.adaptee = adaptee\n",
    "\n",
    "            self.orig_forward = adaptee.forward\n",
    "            adaptee.forward = self.forward\n",
    "            \n",
    "            r = 1\n",
    "            adaptee.lora_A = nn.Parameter(\n",
    "                torch.randn(adaptee.in_features, r) / math.sqrt(adaptee.in_features)\n",
    "            )\n",
    "            adaptee.lora_B = nn.Parameter(torch.zeros(r, adaptee.out_features))\n",
    "\n",
    "        def forward(self, x, *args, **kwargs):\n",
    "            return (\n",
    "                self.orig_forward(x, *args, **kwargs)\n",
    "                + F.dropout(x, 0.1) @ self.adaptee.lora_A @ self.adaptee.lora_B\n",
    "            )\n",
    "   \n",
    "    # freeze all layers, incl. embeddings, except for the classifier\n",
    "    for m in model.roberta.modules():    \n",
    "        m.requires_grad_(False)\n",
    "\n",
    "    # Adapt linear modules in transformer layers\n",
    "    for m in model.roberta.encoder.modules():    \n",
    "        if isinstance(m, nn.Linear):\n",
    "            MinimalLoRAAdapter(m)"
   ]
  },
  {
   "cell_type": "code",
   "execution_count": 5,
   "id": "79262f93-88ab-4c43-859c-679a9b80f88b",
   "metadata": {
    "tags": []
   },
   "outputs": [
    {
     "name": "stdout",
     "output_type": "stream",
     "text": [
      "\n",
      "---- without gradient checkpointing ----\n",
      "\n"
     ]
    },
    {
     "name": "stderr",
     "output_type": "stream",
     "text": [
      "Some weights of RobertaForSequenceClassification were not initialized from the model checkpoint at roberta-base and are newly initialized: ['classifier.out_proj.weight', 'classifier.out_proj.bias', 'classifier.dense.bias', 'classifier.dense.weight']\n",
      "You should probably TRAIN this model on a down-stream task to be able to use it for predictions and inference.\n",
      "You're using a RobertaTokenizerFast tokenizer. Please note that with a fast tokenizer, using the `__call__` method is faster than using a method to encode the text followed by a call to the `pad` method to get a padded encoding.\n"
     ]
    },
    {
     "name": "stdout",
     "output_type": "stream",
     "text": [
      "model.is_gradient_checkpointing=False\n",
      "Total parameters: 124,647,170, thereof learnable: 124,647,170 (100.0000%)\n",
      "{'eval_loss': 0.6934486627578735, 'eval_accuracy': 0.5091743119266054, 'eval_runtime': 15.9581, 'eval_samples_per_second': 54.643, 'eval_steps_per_second': 6.83, 'epoch': 0.04}\n",
      "{'loss': 0.6809, 'learning_rate': 1.9999999999999998e-05, 'epoch': 0.07}\n",
      "{'eval_loss': 0.6518974900245667, 'eval_accuracy': 0.536697247706422, 'eval_runtime': 4.8602, 'eval_samples_per_second': 179.415, 'eval_steps_per_second': 22.427, 'epoch': 0.07}\n",
      "{'eval_loss': 0.2987501919269562, 'eval_accuracy': 0.8922018348623854, 'eval_runtime': 4.71, 'eval_samples_per_second': 185.138, 'eval_steps_per_second': 23.142, 'epoch': 0.11}\n",
      "{'loss': 0.4068, 'learning_rate': 9.999999999999999e-06, 'epoch': 0.15}\n",
      "{'eval_loss': 0.2835868299007416, 'eval_accuracy': 0.8956422018348624, 'eval_runtime': 4.8738, 'eval_samples_per_second': 178.915, 'eval_steps_per_second': 22.364, 'epoch': 0.15}\n",
      "{'eval_loss': 0.29682257771492004, 'eval_accuracy': 0.8899082568807339, 'eval_runtime': 4.7944, 'eval_samples_per_second': 181.881, 'eval_steps_per_second': 22.735, 'epoch': 0.19}\n",
      "{'loss': 0.3389, 'learning_rate': 0.0, 'epoch': 0.22}\n",
      "{'eval_loss': 0.29005396366119385, 'eval_accuracy': 0.8887614678899083, 'eval_runtime': 4.8028, 'eval_samples_per_second': 181.561, 'eval_steps_per_second': 22.695, 'epoch': 0.22}\n",
      "{'train_runtime': 280.9815, 'train_samples_per_second': 53.384, 'train_steps_per_second': 5.338, 'train_loss': 0.47552657063802084, 'epoch': 0.22}\n",
      "{'eval_loss': 0.2888526916503906, 'eval_accuracy': 0.8922018348623854, 'eval_runtime': 4.7568, 'eval_samples_per_second': 183.317, 'eval_steps_per_second': 22.915, 'epoch': 0.22}\n",
      "\n",
      "---- with gradient checkpointing ----\n",
      "\n"
     ]
    },
    {
     "name": "stderr",
     "output_type": "stream",
     "text": [
      "Some weights of RobertaForSequenceClassification were not initialized from the model checkpoint at roberta-base and are newly initialized: ['classifier.out_proj.weight', 'classifier.out_proj.bias', 'classifier.dense.bias', 'classifier.dense.weight']\n",
      "You should probably TRAIN this model on a down-stream task to be able to use it for predictions and inference.\n"
     ]
    },
    {
     "name": "stdout",
     "output_type": "stream",
     "text": [
      "model.is_gradient_checkpointing=False\n",
      "Total parameters: 124,647,170, thereof learnable: 124,647,170 (100.0000%)\n"
     ]
    },
    {
     "name": "stderr",
     "output_type": "stream",
     "text": [
      "/opt/homebrew/Caskroom/miniforge/base/envs/peft_lora/lib/python3.10/site-packages/torch/utils/checkpoint.py:429: UserWarning: torch.utils.checkpoint: please pass in use_reentrant=True or use_reentrant=False explicitly. The default value of use_reentrant will be updated to be False in the future. To maintain current behavior, pass use_reentrant=True. It is recommended that you use use_reentrant=False. Refer to docs for more details on the differences between the two variants.\n",
      "  warnings.warn(\n",
      "/opt/homebrew/Caskroom/miniforge/base/envs/peft_lora/lib/python3.10/site-packages/torch/utils/checkpoint.py:61: UserWarning: None of the inputs have requires_grad=True. Gradients will be None\n",
      "  warnings.warn(\n"
     ]
    },
    {
     "name": "stdout",
     "output_type": "stream",
     "text": [
      "{'eval_loss': 0.6929524540901184, 'eval_accuracy': 0.5091743119266054, 'eval_runtime': 4.5995, 'eval_samples_per_second': 189.586, 'eval_steps_per_second': 23.698, 'epoch': 0.04}\n",
      "{'loss': 0.6861, 'learning_rate': 1.9999999999999998e-05, 'epoch': 0.07}\n",
      "{'eval_loss': 0.6892897486686707, 'eval_accuracy': 0.5091743119266054, 'eval_runtime': 4.6894, 'eval_samples_per_second': 185.951, 'eval_steps_per_second': 23.244, 'epoch': 0.07}\n",
      "{'eval_loss': 0.6857690215110779, 'eval_accuracy': 0.5091743119266054, 'eval_runtime': 4.6746, 'eval_samples_per_second': 186.54, 'eval_steps_per_second': 23.317, 'epoch': 0.11}\n",
      "{'loss': 0.6789, 'learning_rate': 9.999999999999999e-06, 'epoch': 0.15}\n",
      "{'eval_loss': 0.6886543035507202, 'eval_accuracy': 0.5091743119266054, 'eval_runtime': 4.6602, 'eval_samples_per_second': 187.117, 'eval_steps_per_second': 23.39, 'epoch': 0.15}\n",
      "{'eval_loss': 0.6868622303009033, 'eval_accuracy': 0.5091743119266054, 'eval_runtime': 4.7011, 'eval_samples_per_second': 185.488, 'eval_steps_per_second': 23.186, 'epoch': 0.19}\n",
      "{'loss': 0.6749, 'learning_rate': 0.0, 'epoch': 0.22}\n",
      "{'eval_loss': 0.6850655674934387, 'eval_accuracy': 0.5091743119266054, 'eval_runtime': 4.7221, 'eval_samples_per_second': 184.664, 'eval_steps_per_second': 23.083, 'epoch': 0.22}\n",
      "{'train_runtime': 110.3285, 'train_samples_per_second': 135.958, 'train_steps_per_second': 13.596, 'train_loss': 0.6799923706054688, 'epoch': 0.22}\n",
      "{'eval_loss': 0.6850655674934387, 'eval_accuracy': 0.5091743119266054, 'eval_runtime': 4.8101, 'eval_samples_per_second': 181.284, 'eval_steps_per_second': 22.661, 'epoch': 0.22}\n",
      "CPU times: user 6min 16s, sys: 47.8 s, total: 7min 4s\n",
      "Wall time: 6min 45s\n"
     ]
    }
   ],
   "source": [
    "%%time\n",
    "\n",
    "tokenizer = AutoTokenizer.from_pretrained(hf_ckp)\n",
    "collator = DataCollatorWithPadding(tokenizer=tokenizer)\n",
    "\n",
    "datasets.logging.disable_progress_bar()\n",
    "dataset = datasets.load_dataset(\"glue\", \"sst2\")\n",
    "train = dataset[\"train\"]\n",
    "valid = dataset[\"validation\"]\n",
    "\n",
    "def preprocess_function(examples):\n",
    "        return tokenizer(examples['sentence'], padding=False, truncation=True)\n",
    "\n",
    "tokenized_train = train.map(preprocess_function, batched=False)\n",
    "tokenized_valid = valid.map(preprocess_function, batched=False)\n",
    "\n",
    "def train(cp_enabled, model):\n",
    "     \n",
    "    model = AutoModelForSequenceClassification.from_pretrained(hf_ckp, num_labels=2)   \n",
    "\n",
    "    \n",
    "    training_args = TrainingArguments(\n",
    "        gradient_checkpointing=cp_enabled,\n",
    "        output_dir=\"out\",    \n",
    "        per_device_train_batch_size=10,\n",
    "        learning_rate=3e-5,\n",
    "        save_steps=10_000,\n",
    "        eval_steps=   250,\n",
    "        max_steps = 1_500,\n",
    "        evaluation_strategy=\"steps\",\n",
    "        save_strategy=\"steps\",\n",
    "        save_total_limit=1,\n",
    "        disable_tqdm=True,\n",
    "        metric_for_best_model='eval_accuracy',\n",
    "        report_to=\"none\", # Disable wandb, tensorboard\n",
    "    )\n",
    "\n",
    "    trainer = Trainer(\n",
    "        model=model,\n",
    "        args=training_args,\n",
    "        train_dataset=tokenized_train,\n",
    "        eval_dataset=tokenized_valid,\n",
    "        tokenizer=tokenizer,\n",
    "        data_collator=collator,\n",
    "        compute_metrics=compute_metrics,\n",
    "    )\n",
    "    print(f'{model.is_gradient_checkpointing=}')\n",
    "    total, learnable = count_parameters(model, verbose=False)\n",
    "    \n",
    "    adapt_model(model)\n",
    "    if cp_enabled:\n",
    "        model.gradient_checkpointing_enable(gradient_checkpointing_kwargs={\"use_reentrant\":False})\n",
    "\n",
    "\n",
    "    trainer.train()\n",
    "    trainer.evaluate()\n",
    "    del(model) # essential!\n",
    "\n",
    "\n",
    "print('\\n---- without gradient checkpointing ----\\n')\n",
    "train(False, None)\n",
    "\n",
    "print('\\n---- with gradient checkpointing ----\\n')\n",
    "train(True, None)"
   ]
  },
  {
   "cell_type": "code",
   "execution_count": null,
   "id": "d36f5c3d-68ab-4d44-aec2-9b9e17f74c86",
   "metadata": {},
   "outputs": [],
   "source": []
  }
 ],
 "metadata": {
  "kernelspec": {
   "display_name": "Python 3 (ipykernel)",
   "language": "python",
   "name": "python3"
  },
  "language_info": {
   "codemirror_mode": {
    "name": "ipython",
    "version": 3
   },
   "file_extension": ".py",
   "mimetype": "text/x-python",
   "name": "python",
   "nbconvert_exporter": "python",
   "pygments_lexer": "ipython3",
   "version": "3.10.12"
  }
 },
 "nbformat": 4,
 "nbformat_minor": 5
}
