{
 "cells": [
  {
   "cell_type": "code",
   "execution_count": 1,
   "id": "cae0884b-1dd5-4412-be2a-6ee33109431b",
   "metadata": {
    "tags": []
   },
   "outputs": [],
   "source": [
    "%load_ext autoreload\n",
    "%autoreload 2\n",
    "\n",
    "%matplotlib inline"
   ]
  },
  {
   "cell_type": "code",
   "execution_count": 2,
   "id": "9522d4e5-cfd0-4dd2-a1cd-6927210b3505",
   "metadata": {
    "tags": []
   },
   "outputs": [],
   "source": [
    "!pip install -Uq transformers datasets torch numpy"
   ]
  },
  {
   "cell_type": "code",
   "execution_count": 3,
   "id": "de39bf30-392b-47f2-8ee4-b92593cf3a21",
   "metadata": {
    "tags": []
   },
   "outputs": [
    {
     "data": {
      "text/plain": [
       "('2.1.2+cu121', '4.36.2', '2.16.1', '1.26.3')"
      ]
     },
     "execution_count": 3,
     "metadata": {},
     "output_type": "execute_result"
    }
   ],
   "source": [
    "import torch, transformers, datasets\n",
    "import numpy as np\n",
    "torch.__version__, transformers.__version__, datasets.__version__, np.__version__"
   ]
  },
  {
   "cell_type": "code",
   "execution_count": 4,
   "id": "1377d1fb-63d4-48dc-afff-a70e55093024",
   "metadata": {},
   "outputs": [
    {
     "name": "stderr",
     "output_type": "stream",
     "text": [
      "2024-01-17 13:07:33.587614: I tensorflow/core/platform/cpu_feature_guard.cc:182] This TensorFlow binary is optimized to use available CPU instructions in performance-critical operations.\n",
      "To enable the following instructions: SSE4.1 SSE4.2 AVX AVX2 FMA, in other operations, rebuild TensorFlow with the appropriate compiler flags.\n"
     ]
    }
   ],
   "source": [
    "from transformers import AutoModelForSequenceClassification, AutoTokenizer, DataCollatorWithPadding, TrainingArguments, Trainer, set_seed\n",
    "from torch import nn\n",
    "from torch.nn import functional as F\n",
    "import math\n",
    "\n",
    "hf_ckp = 'roberta-base'\n",
    "set_seed(100)\n",
    "\n",
    "def compute_metrics(eval_pred):\n",
    "    logits, labels = eval_pred\n",
    "    predictions = np.argmax(logits, axis=-1)\n",
    "    return {f\"accuracy\": (predictions == labels).mean()}\n",
    "\n",
    "def count_parameters(m, verbose=True):\n",
    "    total_count = 0\n",
    "    learnable_count = 0\n",
    "    if verbose:\n",
    "        print(\"Parameters (name, tunable, count):\")\n",
    "\n",
    "    output_width = max([len(n) for n, _ in m.named_parameters()])\n",
    "    for n, p in m.named_parameters():\n",
    "        count = p.data.numel()\n",
    "        if verbose:\n",
    "            print(f\" {n:{output_width}} {p.requires_grad:5b} {count:>11d}\")\n",
    "        total_count += count\n",
    "        if p.requires_grad:\n",
    "            learnable_count += count\n",
    "\n",
    "    print(\n",
    "        f\"Total parameters: {total_count:,}, \"\n",
    "        f\"thereof learnable: {learnable_count:,} \"\n",
    "        f\"({learnable_count/total_count*100.:5.4f}%)\"\n",
    "    )\n",
    "\n",
    "    return total_count, learnable_count\n",
    "\n",
    "def adapt_model(model):\n",
    "    \n",
    "    # Minimalized example in place of the original LoRA-from-Scratch \n",
    "    # implementation from the article: \n",
    "    # https://towardsdatascience.com/dive-into-lora-adapters-38f4da488ede\n",
    "    class MinimalLoRAAdapter(nn.Module): \n",
    "        def __init__(self, \n",
    "                     adaptee):\n",
    "            super().__init__()\n",
    "\n",
    "            self.adaptee = adaptee\n",
    "\n",
    "            self.orig_forward = adaptee.forward\n",
    "            adaptee.forward = self.forward\n",
    "            \n",
    "            r = 1\n",
    "            adaptee.lora_A = nn.Parameter(\n",
    "                torch.randn(adaptee.in_features, r) / math.sqrt(adaptee.in_features)\n",
    "            )\n",
    "            adaptee.lora_B = nn.Parameter(torch.zeros(r, adaptee.out_features))\n",
    "\n",
    "        def forward(self, x, *args, **kwargs):\n",
    "            return (\n",
    "                self.orig_forward(x, *args, **kwargs)\n",
    "                + F.dropout(x, 0.1) @ self.adaptee.lora_A @ self.adaptee.lora_B\n",
    "            )\n",
    "   \n",
    "    # freeze all layers, incl. embeddings, except for the classifier\n",
    "    for m in model.roberta.modules():    \n",
    "        m.requires_grad_(False)\n",
    "\n",
    "    # Adapt linear modules in transformer layers\n",
    "    for m in model.roberta.encoder.modules():    \n",
    "        if isinstance(m, nn.Linear):\n",
    "            MinimalLoRAAdapter(m)"
   ]
  },
  {
   "cell_type": "code",
   "execution_count": 5,
   "id": "79262f93-88ab-4c43-859c-679a9b80f88b",
   "metadata": {
    "tags": []
   },
   "outputs": [
    {
     "name": "stdout",
     "output_type": "stream",
     "text": [
      "\n",
      "---- without gradient checkpointing ----\n",
      "\n"
     ]
    },
    {
     "name": "stderr",
     "output_type": "stream",
     "text": [
      "Some weights of RobertaForSequenceClassification were not initialized from the model checkpoint at roberta-base and are newly initialized: ['classifier.out_proj.weight', 'classifier.out_proj.bias', 'classifier.dense.bias', 'classifier.dense.weight']\n",
      "You should probably TRAIN this model on a down-stream task to be able to use it for predictions and inference.\n"
     ]
    },
    {
     "name": "stdout",
     "output_type": "stream",
     "text": [
      "model.is_gradient_checkpointing=False\n",
      "Total parameters: 124,813,058, thereof learnable: 758,018 (0.6073%)\n"
     ]
    },
    {
     "name": "stderr",
     "output_type": "stream",
     "text": [
      "You're using a RobertaTokenizerFast tokenizer. Please note that with a fast tokenizer, using the `__call__` method is faster than using a method to encode the text followed by a call to the `pad` method to get a padded encoding.\n"
     ]
    },
    {
     "name": "stdout",
     "output_type": "stream",
     "text": [
      "{'eval_loss': 0.33385390043258667, 'eval_accuracy': 0.8841743119266054, 'eval_runtime': 1.7162, 'eval_samples_per_second': 508.097, 'eval_steps_per_second': 63.512, 'epoch': 0.83}\n",
      "{'loss': 0.4722, 'learning_rate': 1.5e-05, 'epoch': 1.66}\n",
      "{'eval_loss': 0.2571539282798767, 'eval_accuracy': 0.9013761467889908, 'eval_runtime': 1.6767, 'eval_samples_per_second': 520.059, 'eval_steps_per_second': 65.007, 'epoch': 1.66}\n",
      "{'eval_loss': 0.2381727248430252, 'eval_accuracy': 0.908256880733945, 'eval_runtime': 1.6953, 'eval_samples_per_second': 514.363, 'eval_steps_per_second': 64.295, 'epoch': 2.49}\n",
      "{'loss': 0.2937, 'learning_rate': 0.0, 'epoch': 3.32}\n",
      "{'eval_loss': 0.23466329276561737, 'eval_accuracy': 0.9071100917431193, 'eval_runtime': 1.692, 'eval_samples_per_second': 515.359, 'eval_steps_per_second': 64.42, 'epoch': 3.32}\n",
      "{'train_runtime': 457.1886, 'train_samples_per_second': 489.951, 'train_steps_per_second': 2.187, 'train_loss': 0.38296363830566404, 'epoch': 3.32}\n",
      "{'eval_loss': 0.23593959212303162, 'eval_accuracy': 0.908256880733945, 'eval_runtime': 1.6902, 'eval_samples_per_second': 515.919, 'eval_steps_per_second': 64.49, 'epoch': 3.32}\n",
      "\n",
      "---- with gradient checkpointing ----\n",
      "\n"
     ]
    },
    {
     "name": "stderr",
     "output_type": "stream",
     "text": [
      "Some weights of RobertaForSequenceClassification were not initialized from the model checkpoint at roberta-base and are newly initialized: ['classifier.out_proj.weight', 'classifier.out_proj.bias', 'classifier.dense.bias', 'classifier.dense.weight']\n",
      "You should probably TRAIN this model on a down-stream task to be able to use it for predictions and inference.\n"
     ]
    },
    {
     "name": "stdout",
     "output_type": "stream",
     "text": [
      "model.is_gradient_checkpointing=True\n",
      "Total parameters: 124,813,058, thereof learnable: 758,018 (0.6073%)\n"
     ]
    },
    {
     "name": "stderr",
     "output_type": "stream",
     "text": [
      "/opt/conda/lib/python3.10/site-packages/torch/utils/checkpoint.py:429: UserWarning: torch.utils.checkpoint: please pass in use_reentrant=True or use_reentrant=False explicitly. The default value of use_reentrant will be updated to be False in the future. To maintain current behavior, pass use_reentrant=True. It is recommended that you use use_reentrant=False. Refer to docs for more details on the differences between the two variants.\n",
      "  warnings.warn(\n",
      "/opt/conda/lib/python3.10/site-packages/torch/utils/checkpoint.py:61: UserWarning: None of the inputs have requires_grad=True. Gradients will be None\n",
      "  warnings.warn(\n"
     ]
    },
    {
     "name": "stdout",
     "output_type": "stream",
     "text": [
      "{'eval_loss': 0.6846632361412048, 'eval_accuracy': 0.5091743119266054, 'eval_runtime': 1.6902, 'eval_samples_per_second': 515.902, 'eval_steps_per_second': 64.488, 'epoch': 0.83}\n",
      "{'loss': 0.6764, 'learning_rate': 1.5e-05, 'epoch': 1.66}\n",
      "{'eval_loss': 0.6755141615867615, 'eval_accuracy': 0.5091743119266054, 'eval_runtime': 1.6956, 'eval_samples_per_second': 514.279, 'eval_steps_per_second': 64.285, 'epoch': 1.66}\n",
      "{'eval_loss': 0.6665772199630737, 'eval_accuracy': 0.5103211009174312, 'eval_runtime': 1.6849, 'eval_samples_per_second': 517.534, 'eval_steps_per_second': 64.692, 'epoch': 2.49}\n",
      "{'loss': 0.6586, 'learning_rate': 0.0, 'epoch': 3.32}\n",
      "{'eval_loss': 0.6635248064994812, 'eval_accuracy': 0.5194954128440367, 'eval_runtime': 1.6993, 'eval_samples_per_second': 513.142, 'eval_steps_per_second': 64.143, 'epoch': 3.32}\n",
      "{'train_runtime': 227.8506, 'train_samples_per_second': 983.101, 'train_steps_per_second': 4.389, 'train_loss': 0.6675097045898437, 'epoch': 3.32}\n",
      "{'eval_loss': 0.6635248064994812, 'eval_accuracy': 0.5194954128440367, 'eval_runtime': 1.6397, 'eval_samples_per_second': 531.808, 'eval_steps_per_second': 66.476, 'epoch': 3.32}\n",
      "CPU times: user 5min 46s, sys: 5min 43s, total: 11min 30s\n",
      "Wall time: 11min 32s\n"
     ]
    }
   ],
   "source": [
    "%%time\n",
    "\n",
    "tokenizer = AutoTokenizer.from_pretrained(hf_ckp)\n",
    "collator = DataCollatorWithPadding(tokenizer=tokenizer)\n",
    "\n",
    "datasets.logging.disable_progress_bar()\n",
    "dataset = datasets.load_dataset(\"glue\", \"sst2\")\n",
    "train = dataset[\"train\"]\n",
    "valid = dataset[\"validation\"]\n",
    "\n",
    "def preprocess_function(examples):\n",
    "        return tokenizer(examples['sentence'], padding=False, truncation=True)\n",
    "\n",
    "tokenized_train = train.map(preprocess_function, batched=False)\n",
    "tokenized_valid = valid.map(preprocess_function, batched=False)\n",
    "\n",
    "def train(cp_enabled, model):\n",
    "     \n",
    "    if cp_enabled:\n",
    "        model.gradient_checkpointing_enable(gradient_checkpointing_kwargs={\"use_reentrant\":False})\n",
    "    \n",
    "    training_args = TrainingArguments(\n",
    "        gradient_checkpointing=cp_enabled,\n",
    "        output_dir=\"out\",    \n",
    "        per_device_train_batch_size=224,\n",
    "        learning_rate=3e-5,\n",
    "        save_steps=10_000,\n",
    "        eval_steps=   250,\n",
    "        max_steps = 1_000,\n",
    "        evaluation_strategy=\"steps\",\n",
    "        save_strategy=\"steps\",\n",
    "        save_total_limit=1,\n",
    "        disable_tqdm=True,\n",
    "        metric_for_best_model='eval_accuracy',\n",
    "        report_to=\"none\", # Disable wandb, tensorboard\n",
    "    )\n",
    "\n",
    "    trainer = Trainer(\n",
    "        model=model,\n",
    "        args=training_args,\n",
    "        train_dataset=tokenized_train,\n",
    "        eval_dataset=tokenized_valid,\n",
    "        tokenizer=tokenizer,\n",
    "        data_collator=collator,\n",
    "        compute_metrics=compute_metrics,\n",
    "    )\n",
    "    print(f'{model.is_gradient_checkpointing=}')\n",
    "    total, learnable = count_parameters(model, verbose=False)\n",
    "    \n",
    "    trainer.train()\n",
    "    trainer.evaluate()\n",
    "\n",
    "\n",
    "print('\\n---- without gradient checkpointing ----\\n')\n",
    "model = AutoModelForSequenceClassification.from_pretrained(hf_ckp, num_labels=2)   \n",
    "adapt_model(model)\n",
    "train(False, model)\n",
    "\n",
    "del(model) # essential!\n",
    "\n",
    "print('\\n---- with gradient checkpointing ----\\n')\n",
    "model = AutoModelForSequenceClassification.from_pretrained(hf_ckp, num_labels=2)\n",
    "adapt_model(model)\n",
    "\n",
    "train(True, model)"
   ]
  }
 ],
 "metadata": {
  "kernelspec": {
   "display_name": "Python 3 (ipykernel)",
   "language": "python",
   "name": "python3"
  },
  "language_info": {
   "codemirror_mode": {
    "name": "ipython",
    "version": 3
   },
   "file_extension": ".py",
   "mimetype": "text/x-python",
   "name": "python",
   "nbconvert_exporter": "python",
   "pygments_lexer": "ipython3",
   "version": "3.10.13"
  }
 },
 "nbformat": 4,
 "nbformat_minor": 5
}
